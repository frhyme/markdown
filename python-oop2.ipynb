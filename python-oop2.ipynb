{
 "cells": [
  {
   "cell_type": "markdown",
   "metadata": {},
   "source": [
    "# python - object oriented programming(basic)\n",
    "- 학부때부터 '객체지향이 중요하다'는 이야기를 많이 들었는데, 정작 요즘에 파이썬을 쓰면서 객체지향적으로 생각하는 일이 없는 것 같아서 좀 정리해봄\n",
    "- 사실 우리가 보통 말하는 '객체지향적 프로그래밍'은 객체를 설계할 때 많이 쓰는데, 요즘에는 따로 객체를 설계할 일이 많지 않음. 이는 두 가지 정도의 이유에 기인함\n",
    "    - 파이썬에서 이미 훌륭한 자료구조 등이 제공되서, 내가 직접 객체를 설계할 일이 잘 없음\n",
    "    - '객체지향 프로그래밍'은 게임 개발, 인터페이스 설계 쪽에서 많이 활용됨. 하지만 이 둘다 내가 할일이 없음\n",
    "- 아무튼 그러함에도, 내가 쓰고 있는 것들은 다 객체이므로 어떻게 굴러가는지 더 잘 이해하기 위해서라도 알아두는 것이 필요함.\n",
    "- 다음 내용을 (아주 간단히) 소개할 계획\n",
    "    - basic\n",
    "    - inheritance\n",
    "    - method overriding\n",
    "    - class method\n",
    "    - static method"
   ]
  },
  {
   "cell_type": "markdown",
   "metadata": {},
   "source": [
    "### basic\n",
    "- object = 관련있는 데이터와 메소드의 합\n",
    "- `__init__` method는 생성자 라고 생각을 하면 됨(실제로는 조금 다르게 운영이 된다고 하지만, 거기까지 우리가 알 필요는 없을듯)"
   ]
  },
  {
   "cell_type": "code",
   "execution_count": 53,
   "metadata": {
    "collapsed": false
   },
   "outputs": [
    {
     "name": "stdout",
     "output_type": "stream",
     "text": [
      "3 4 12\n"
     ]
    }
   ],
   "source": [
    "class Rectangle(object):\n",
    "    def __init__(self, h, v):# constructor \n",
    "        self.h = h\n",
    "        self.v = v\n",
    "    def area(self):\n",
    "        return self.h * self.v\n",
    "a = Rectangle(3, 4)\n",
    "print(a.h, a.v, a.area())"
   ]
  },
  {
   "cell_type": "markdown",
   "metadata": {},
   "source": [
    "### inheritance and method overriding\n",
    "- 기존에 있는 클래스를 상속하는 것, \n",
    "- 개와 오리는 동물 클래스를 상속받는다.\n",
    "- 당연한 이야기지만, method는 instance, class, super class 순으로 탐색해서 실행됨. \n",
    "    - 하위 클래스에 해당 이름의 method가 있을 경우에는 그 method가 실행되고, 그렇지 않을 때는, 상위 클래스가 수행됨\n",
    "    - `super(class type, instance)`를 사용하면, 상위 클래스의 method를 실행할 수 있음."
   ]
  },
  {
   "cell_type": "code",
   "execution_count": 54,
   "metadata": {
    "collapsed": false
   },
   "outputs": [
    {
     "name": "stdout",
     "output_type": "stream",
     "text": [
      "what?\n",
      "Bark\n",
      "what?\n",
      "Quak\n"
     ]
    }
   ],
   "source": [
    "class Animal(object):\n",
    "    def __init__(self, name):\n",
    "        self.name = name\n",
    "    def speak(self):\n",
    "        print(\"what?\")\n",
    "class Dog(Animal):\n",
    "    def speak(self):\n",
    "        print(\"Bark\")\n",
    "class Duck(Animal):\n",
    "    def speak(self):\n",
    "        print(\"Quak\")\n",
    "animals = [Dog(\"dog\"), Duck(\"duck\")]\n",
    "\n",
    "for x in animals:\n",
    "    super(type(x), x).speak() # class의 super class의 instance method를 실행\n",
    "    x.speak()"
   ]
  },
  {
   "cell_type": "markdown",
   "metadata": {},
   "source": [
    "### overloading? \n",
    "- overriding 은 기존에 있던 메소드를 덮어 쓰는 것\n",
    "- 오버로딩은 자료형이나 인수에 따라서 다르게 작동하도록 하는 것\n",
    "- C++에서 생각해보면 `func(int a, int b)`, `func(int a, int b, int c)`를 둘다 정의하여 사용할 수 있음\n",
    "- 그러나, 파이썬에서는 이렇게 서로 다른 인수를 받는 함수를 동시에 사용할 수 없음 \n",
    "    - 아래를 보면, `test(a, b)` 가 `test(a, b, c)`에 덮어씌워져서 사라짐. "
   ]
  },
  {
   "cell_type": "code",
   "execution_count": 55,
   "metadata": {
    "collapsed": false
   },
   "outputs": [
    {
     "ename": "TypeError",
     "evalue": "test() missing 1 required positional argument: 'c'",
     "output_type": "error",
     "traceback": [
      "\u001b[0;31m---------------------------------------------------------------------------\u001b[0m",
      "\u001b[0;31mTypeError\u001b[0m                                 Traceback (most recent call last)",
      "\u001b[0;32m<ipython-input-55-28f4e14470a5>\u001b[0m in \u001b[0;36m<module>\u001b[0;34m()\u001b[0m\n\u001b[1;32m      3\u001b[0m \u001b[1;32mdef\u001b[0m \u001b[0mtest\u001b[0m\u001b[1;33m(\u001b[0m\u001b[0ma\u001b[0m\u001b[1;33m,\u001b[0m \u001b[0mb\u001b[0m\u001b[1;33m,\u001b[0m \u001b[0mc\u001b[0m\u001b[1;33m)\u001b[0m\u001b[1;33m:\u001b[0m\u001b[1;33m\u001b[0m\u001b[0m\n\u001b[1;32m      4\u001b[0m     \u001b[1;32mreturn\u001b[0m \u001b[0ma\u001b[0m\u001b[1;33m+\u001b[0m\u001b[0mb\u001b[0m\u001b[1;33m+\u001b[0m\u001b[0mc\u001b[0m\u001b[1;33m\u001b[0m\u001b[0m\n\u001b[0;32m----> 5\u001b[0;31m \u001b[0mtest\u001b[0m\u001b[1;33m(\u001b[0m\u001b[1;36m1\u001b[0m\u001b[1;33m,\u001b[0m \u001b[1;36m2\u001b[0m\u001b[1;33m)\u001b[0m\u001b[1;33m\u001b[0m\u001b[0m\n\u001b[0m",
      "\u001b[0;31mTypeError\u001b[0m: test() missing 1 required positional argument: 'c'"
     ]
    }
   ],
   "source": [
    "def test(a, b):\n",
    "    return a+b\n",
    "def test(a, b, c):\n",
    "    return a+b+c\n",
    "test(1, 2)"
   ]
  },
  {
   "cell_type": "markdown",
   "metadata": {},
   "source": [
    "### public/private/protected\n",
    "  - `_`: protected\n",
    "  - `__`: private"
   ]
  },
  {
   "cell_type": "code",
   "execution_count": 56,
   "metadata": {
    "collapsed": false
   },
   "outputs": [
    {
     "name": "stdout",
     "output_type": "stream",
     "text": [
      "this is public method\n",
      "this is private method\n",
      "noohgnues\n"
     ]
    },
    {
     "ename": "AttributeError",
     "evalue": "'test' object has no attribute '__private_method'",
     "output_type": "error",
     "traceback": [
      "\u001b[0;31m---------------------------------------------------------------------------\u001b[0m",
      "\u001b[0;31mAttributeError\u001b[0m                            Traceback (most recent call last)",
      "\u001b[0;32m<ipython-input-56-88c0d54e0d0d>\u001b[0m in \u001b[0;36m<module>\u001b[0;34m()\u001b[0m\n\u001b[1;32m     11\u001b[0m \u001b[0ma\u001b[0m \u001b[1;33m=\u001b[0m \u001b[0mtest\u001b[0m\u001b[1;33m(\u001b[0m\u001b[1;34m\"seunghoon\"\u001b[0m\u001b[1;33m)\u001b[0m\u001b[1;33m\u001b[0m\u001b[0m\n\u001b[1;32m     12\u001b[0m \u001b[0ma\u001b[0m\u001b[1;33m.\u001b[0m\u001b[0mpublic_method\u001b[0m\u001b[1;33m(\u001b[0m\u001b[1;33m)\u001b[0m\u001b[1;33m\u001b[0m\u001b[0m\n\u001b[0;32m---> 13\u001b[0;31m \u001b[0ma\u001b[0m\u001b[1;33m.\u001b[0m\u001b[0m__private_method\u001b[0m\u001b[1;33m(\u001b[0m\u001b[1;33m)\u001b[0m\u001b[1;33m\u001b[0m\u001b[0m\n\u001b[0m",
      "\u001b[0;31mAttributeError\u001b[0m: 'test' object has no attribute '__private_method'"
     ]
    }
   ],
   "source": [
    "class test(object):\n",
    "    def __init__(self, name):\n",
    "        self.name = name\n",
    "        self.__private_name = \"\".join(list(reversed(name)))\n",
    "    def __private_method(self):\n",
    "        print(\"this is private method\")\n",
    "        print(self.__private_name)\n",
    "    def public_method(self):\n",
    "        print(\"this is public method\")\n",
    "        self.__private_method()\n",
    "a = test(\"seunghoon\")\n",
    "a.public_method()\n",
    "a.__private_method()"
   ]
  },
  {
   "cell_type": "markdown",
   "metadata": {},
   "source": [
    "### class variable과 특수 메소드 \n",
    "- 그런데, 기존에 정의된 특수 메소드들의 경우는 `__`가 붙어있지만 외부에서도 접근 가능함.\n",
    "- 주요 operator를 정의하기 위한 메소드\n",
    "- class variable; 인스턴스가 아니라, 클래스에 속한 변수\n",
    "    - 따라서, self, 가 아니라, 클래스이름으로 접근함\n",
    "    - 물론 인스턴스 이름으로 접근해도 문제는 없음"
   ]
  },
  {
   "cell_type": "code",
   "execution_count": 57,
   "metadata": {
    "collapsed": false
   },
   "outputs": [
    {
     "name": "stdout",
     "output_type": "stream",
     "text": [
      "1 2\n",
      "11 11\n",
      "3+5i\n",
      "-1+-1i\n",
      "False\n",
      "True\n",
      "True\n"
     ]
    }
   ],
   "source": [
    "# 특수 메소드 : __ 이 있는 메소드 \n",
    "class Complex(object):\n",
    "    count = 0 #class 변수, self가 없음\n",
    "    def __init__(self, real, img):# 생성자\n",
    "        Complex.count+=1\n",
    "        self.r = real\n",
    "        self.i = img\n",
    "    def __str__(self): # string으로 바꾸었을때 어떻게 변환되는지에 대한 부분 \n",
    "        return str(self.r)+\"+\"+str(self.i)+\"i\"\n",
    "    def __getitem__(self, key):# []으로 접근가능하게 만들 때, \n",
    "        if key==\"r\":\n",
    "            return self.r\n",
    "        if key==\"i\":\n",
    "            return self.i\n",
    "    def __add__(self, other): # + \n",
    "        return Complex(self.r + other.r, self.i + other.i)\n",
    "    def __sub__(self, other): # = \n",
    "        return Complex(self.r - other.r, self.i - other.i)\n",
    "    def __gt__(self, other): # >\n",
    "        return (self.r > other.r)\n",
    "    def __ge__(self, other): # >=\n",
    "        return (self.r >= other.r)\n",
    "    def __lt__(self, other): # <\n",
    "        return (self.r < other.r)\n",
    "    def __le__(self, other): # <=\n",
    "        return (self.r <= other.r)\n",
    "    def __eq__(self, other): # ==\n",
    "        return (self.r == other.r)\n",
    "    def __ne__(self, other): # !=\n",
    "        return (self.r != other.r)\n",
    "\n",
    "c = Complex(1, 2)\n",
    "print(c[\"r\"], c[\"i\"])\n",
    "\n",
    "for i in range(0, 10):\n",
    "    Complex(1, 2)\n",
    "\n",
    "print(c.count, Complex.count)\n",
    "\n",
    "print( c+Complex(2, 3))\n",
    "print( c-Complex(2, 3))\n",
    "print( c>Complex(2, 3))\n",
    "print( c>=Complex(0, 0))\n",
    "print( c==Complex(1, 2))"
   ]
  },
  {
   "cell_type": "markdown",
   "metadata": {
    "collapsed": false
   },
   "source": [
    "### class method static method\n",
    "- instance method: 인스턴스를 통해 호출이 되고, 첫번째 인자로 인스턴스 자신(self)을 자동으로 전달함\n",
    "- class method: 클래스를 통해 호출이 되고, @classmethod 라는 데코레이터로 정의함, 클래스 자체가 인수로 전달되고, 이를 관습적으로 cls라고 칭함\n",
    "    - decorator가 뭔지를 공부하려면 좀 시간이 걸리고, 그냥 '기존에 정의된 데코레이터를 이용하면, 함수의 특성을 확장할 수 있다' 정도로만 이해하면 됨. \n",
    "- static method: 클래스 내부에 있지만, 클래스 네임스페이스에만 있을 뿐, 일반 함수와는 다른게 없음. 다만 클래스 내부에 있어야 관리하는 것이 편함. "
   ]
  },
  {
   "cell_type": "code",
   "execution_count": 58,
   "metadata": {
    "collapsed": false
   },
   "outputs": [
    {
     "name": "stdout",
     "output_type": "stream",
     "text": [
      "na1 : speak\n",
      "na2 : speak\n"
     ]
    }
   ],
   "source": [
    "class Animal(object):\n",
    "    def __init__(self, name):\n",
    "        self.name = name\n",
    "    @classmethod\n",
    "    def other_constructor_using_classmethod(cls, name):\n",
    "        return cls(name)\n",
    "    @staticmethod\n",
    "    def other_constructor_using_staticmethod(name):\n",
    "        return Animal(name)\n",
    "    def speak(self):\n",
    "        print(self.name, \": speak\")\n",
    "class Dog(Animal):\n",
    "    def speak(self):\n",
    "        print(self.name, \": Bark\")\n",
    "class Duck(Animal):\n",
    "    def speak(self):\n",
    "        print(self.name, \": Quak\")\n",
    "Animal.other_constructor_using_classmethod(\"na1\").speak()\n",
    "Animal.other_constructor_using_staticmethod(\"na2\").speak()"
   ]
  },
  {
   "cell_type": "markdown",
   "metadata": {},
   "source": [
    "- static, class 가 큰 차이가 없다고 느껴질 수 있지만, class method의 경우 상속된 클래스를 자동으로 넘길 수 있고\n",
    "- static method의 경우는 이것을 자동으로 넘길 수가 없다."
   ]
  },
  {
   "cell_type": "code",
   "execution_count": 59,
   "metadata": {
    "collapsed": false
   },
   "outputs": [
    {
     "name": "stdout",
     "output_type": "stream",
     "text": [
      "dd : Bark\n",
      "dd : speak\n"
     ]
    }
   ],
   "source": [
    "Dog.other_constructor_using_classmethod(\"dd\").speak()\n",
    "Dog.other_constructor_using_staticmethod(\"dd\").speak()"
   ]
  },
  {
   "cell_type": "code",
   "execution_count": null,
   "metadata": {
    "collapsed": true
   },
   "outputs": [],
   "source": []
  },
  {
   "cell_type": "code",
   "execution_count": 50,
   "metadata": {
    "collapsed": false
   },
   "outputs": [],
   "source": [
    "# closure는 함수를 리턴해주는 것인데, \n",
    "# 함수 내부에서 경우에 따라서 다양한 함수를 만들어서 리턴할 수 있으므로 유용함\n",
    "\n"
   ]
  },
  {
   "cell_type": "markdown",
   "metadata": {},
   "source": [
    "http://schoolofweb.net/blog/posts/파이썬-oop-part-3-클래스-변수class-variable/\n",
    "https://datascienceschool.net/view-notebook/fdbe01932ce74b7983f1862a56e32104/\n",
    "\n",
    "https://www.slideshare.net/dahlmoon/20160310\n",
    "http://pythonstudy.xyz/python/article/19-%ED%81%B4%EB%9E%98%EC%8A%A4\n",
    "\n",
    "https://docs.python.org/3/tutorial/classes.html"
   ]
  },
  {
   "cell_type": "code",
   "execution_count": null,
   "metadata": {
    "collapsed": true
   },
   "outputs": [],
   "source": []
  }
 ],
 "metadata": {
  "anaconda-cloud": {},
  "kernelspec": {
   "display_name": "Python [conda root]",
   "language": "python",
   "name": "conda-root-py"
  },
  "language_info": {
   "codemirror_mode": {
    "name": "ipython",
    "version": 3
   },
   "file_extension": ".py",
   "mimetype": "text/x-python",
   "name": "python",
   "nbconvert_exporter": "python",
   "pygments_lexer": "ipython3",
   "version": "3.5.2"
  }
 },
 "nbformat": 4,
 "nbformat_minor": 2
}
