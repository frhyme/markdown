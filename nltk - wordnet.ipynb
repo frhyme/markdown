{
 "cells": [
  {
   "cell_type": "markdown",
   "metadata": {},
   "source": [
    "# wordnet use case\n",
    "- 워드넷: 영단어간의 관계를 정의한 온톨로지, 대략 다음 관계가 정의됨\n",
    "    - synonym\n",
    "    - antonym\n",
    "    - hypernym\n",
    "    - hyponym\n",
    "- 지속적으로 유지보수되어야 하는 문제점이 있기는 하지만, 현재 가장 잘 정의된 온톨로지\n",
    "    - 국내에서도 부산대에서 비슷한 작업을 수행한 적이 있으나, 완전히 공개되지 않아서 접근성 등의 문제가 있음\n",
    "    - wordnet의 경우는 nltk에 통합되어 상대적으로 쉽게 쓸 수 있음 "
   ]
  },
  {
   "cell_type": "markdown",
   "metadata": {},
   "source": [
    "## contents\n",
    "- synset\n",
    "- synonyms\n",
    "- similarity\n",
    "- hypernym\n",
    "- hyponym\n",
    "- antonym\n",
    "- holonym\n",
    "- meronym"
   ]
  },
  {
   "cell_type": "code",
   "execution_count": 44,
   "metadata": {
    "collapsed": true
   },
   "outputs": [],
   "source": [
    "import nltk\n",
    "from nltk.corpus import wordnet as wn"
   ]
  },
  {
   "cell_type": "markdown",
   "metadata": {},
   "source": [
    "# synset\n",
    "- a set of synonyms that share a common meaning"
   ]
  },
  {
   "cell_type": "code",
   "execution_count": 45,
   "metadata": {},
   "outputs": [
    {
     "name": "stdout",
     "output_type": "stream",
     "text": [
      "Synset('car.n.01'): a motor vehicle with four wheels; usually propelled by an internal combustion engine\n",
      "Synset('car.n.02'): a wheeled vehicle adapted to the rails of railroad\n",
      "Synset('car.n.03'): the compartment that is suspended from an airship and that carries personnel and the cargo and the power plant\n",
      "Synset('car.n.04'): where passengers ride up and down\n",
      "Synset('cable_car.n.01'): a conveyance for passengers or freight on a cable railway\n"
     ]
    }
   ],
   "source": [
    "for synset in wn.synsets('car'):\n",
    "    print(\"{}: {}\".format(synset, synset.definition()))"
   ]
  },
  {
   "cell_type": "code",
   "execution_count": 46,
   "metadata": {},
   "outputs": [
    {
     "name": "stdout",
     "output_type": "stream",
     "text": [
      "1st synset\n",
      "car.n.01: 'a motor vehicle with four wheels; usually propelled by an internal combustion engine'\n",
      "example:\n",
      "he needs a car to get to work\n",
      "\n",
      "2nd synset\n",
      "car.n.02: 'a wheeled vehicle adapted to the rails of railroad'\n",
      "example:\n",
      "three cars had jumped the rails\n",
      "\n",
      "3rd synset\n",
      "car.n.03: 'the compartment that is suspended from an airship and that carries personnel and the cargo and the power plant'\n",
      "\n",
      "4th synset\n",
      "car.n.04: 'where passengers ride up and down'\n",
      "example:\n",
      "the car was on the top floor\n",
      "\n",
      "5th synset\n",
      "cable_car.n.01: 'a conveyance for passengers or freight on a cable railway'\n",
      "example:\n",
      "they took a cable car to the top of the mountain\n",
      "\n"
     ]
    }
   ],
   "source": [
    "def ordinal_num(i):\n",
    "    ord_dict = {1:\"st\", 2:\"nd\", 3:\"rd\"}\n",
    "    ord_dict.update( {j:\"th\" for j in range(4, 10)} )\n",
    "    ord_dict[0]=\"th\"\n",
    "    return str(i)+ord_dict[i%10]\n",
    "\n",
    "def all_synsets(word):\n",
    "    for i, synset in enumerate( wn.synsets(word) ):\n",
    "        print(ordinal_num(i+1), 'synset')\n",
    "        print(\"{}: '{}'\".format(synset.name(), synset.definition()))\n",
    "        if synset.examples()!=[]:\n",
    "            print('example:')\n",
    "            for example in synset.examples():\n",
    "                print(example)\n",
    "        print()\n",
    "all_synsets('car')"
   ]
  },
  {
   "cell_type": "markdown",
   "metadata": {},
   "source": [
    "- `wn.synsets` 을 찾을 때, 반드시 input으로 word의 기본형을 넣지 않아도 상관없음"
   ]
  },
  {
   "cell_type": "code",
   "execution_count": 47,
   "metadata": {},
   "outputs": [
    {
     "name": "stdout",
     "output_type": "stream",
     "text": [
      "True\n",
      "True\n"
     ]
    }
   ],
   "source": [
    "print( wn.synsets(\"car\") == wn.synsets('cars') )\n",
    "print( wn.synsets('universities')==wn.synsets('university'))"
   ]
  },
  {
   "cell_type": "markdown",
   "metadata": {},
   "source": [
    "- 하지만, word 형태에 따라서 다른 값이 나올 수 있음 \n",
    "    - 아래를 보면, 'have'와 'having'의 synsets이 다른 것을 알 수 있음\n",
    "    - 두 synsets의 개수가 다른데, 'have'를 넣었을 때는 noun, verb가 모두 나오고, 'having'을 넣었을 때는 verb만 나오게 됨"
   ]
  },
  {
   "cell_type": "code",
   "execution_count": 48,
   "metadata": {},
   "outputs": [
    {
     "name": "stdout",
     "output_type": "stream",
     "text": [
      "False\n"
     ]
    }
   ],
   "source": [
    "print( wn.synsets('have') == wn.synsets('having'))"
   ]
  },
  {
   "cell_type": "code",
   "execution_count": 49,
   "metadata": {},
   "outputs": [
    {
     "name": "stdout",
     "output_type": "stream",
     "text": [
      "20 19\n",
      "True\n",
      "{Synset('rich_person.n.01')}\n"
     ]
    }
   ],
   "source": [
    "have_set = set([ synset for synset in wn.synsets('have') ])\n",
    "having_set = set([ synset for synset in wn.synsets('having') ])\n",
    "print(len(have_set), len(having_set))\n",
    "# 'having'의 경우 pos가 v인 경우에 대해서만 출력\n",
    "print( set([x for x in have_set if x.pos() == 'v' ]) == having_set)\n",
    "print(have_set - having_set)"
   ]
  },
  {
   "cell_type": "markdown",
   "metadata": {},
   "source": [
    "- 결과는 같지만, word를 lemmatize(기본형 도출)하여 넣을 경우 기본형을 넣었을 때와 같은 결과가 나옴"
   ]
  },
  {
   "cell_type": "code",
   "execution_count": 50,
   "metadata": {},
   "outputs": [
    {
     "name": "stdout",
     "output_type": "stream",
     "text": [
      "have\n",
      "True\n"
     ]
    }
   ],
   "source": [
    "from nltk.stem.wordnet import WordNetLemmatizer\n",
    "print( WordNetLemmatizer().lemmatize('having', 'v') )\n",
    "print( wn.synsets(WordNetLemmatizer().lemmatize('having', 'v')) == wn.synsets('have') )"
   ]
  },
  {
   "cell_type": "markdown",
   "metadata": {},
   "source": [
    "# all synsets"
   ]
  },
  {
   "cell_type": "code",
   "execution_count": 51,
   "metadata": {},
   "outputs": [
    {
     "name": "stdout",
     "output_type": "stream",
     "text": [
      "117659\n"
     ]
    }
   ],
   "source": [
    "all_synset = [synset for synset in wn.all_synsets()]\n",
    "print(len(all_synset))"
   ]
  },
  {
   "cell_type": "markdown",
   "metadata": {},
   "source": [
    "- n: noun\n",
    "- v: verb\n",
    "- a: adjective\n",
    "- s: adjective satellite\n",
    "- r: adverb"
   ]
  },
  {
   "cell_type": "code",
   "execution_count": 52,
   "metadata": {},
   "outputs": [
    {
     "data": {
      "text/plain": [
       "{'a', 'n', 'r', 's', 'v'}"
      ]
     },
     "execution_count": 52,
     "metadata": {},
     "output_type": "execute_result"
    }
   ],
   "source": [
    "all_pos = set([synset.pos() for synset in all_synset])\n",
    "all_pos"
   ]
  },
  {
   "cell_type": "markdown",
   "metadata": {},
   "source": [
    "- each pos count"
   ]
  },
  {
   "cell_type": "code",
   "execution_count": 53,
   "metadata": {},
   "outputs": [
    {
     "name": "stdout",
     "output_type": "stream",
     "text": [
      "a : 7463\n",
      "v : 13767\n",
      "r : 3621\n",
      "s : 10693\n",
      "n : 82115\n"
     ]
    }
   ],
   "source": [
    "pos_dict = {pos:[] for pos in all_pos}\n",
    "for synset in all_synset:\n",
    "    pos_dict[synset.pos()].append(synset)\n",
    "for key in pos_dict.keys():\n",
    "    print(key, \":\", len(pos_dict[key]))"
   ]
  },
  {
   "cell_type": "markdown",
   "metadata": {},
   "source": [
    "### what is adjectiv satellite?\n",
    "- 정확히는 알 수 없지만, antonym이 있는 형용사와 antonym이 없는 형용사를 구분하는 것으로 보임\n",
    "- 해당 온톨로지에서 adjective의 경우 반드시, antonym과 함께 triplet으로 구성되어야 하는데, triplet으로 구성될 수 없을 경우를 adjective satellite로 구분해서 표시하는 것으로 보임"
   ]
  },
  {
   "cell_type": "code",
   "execution_count": 54,
   "metadata": {},
   "outputs": [
    {
     "name": "stdout",
     "output_type": "stream",
     "text": [
      "Synset('emergent.s.02')\n",
      "[]\n",
      "Synset('dissilient.s.01')\n",
      "[]\n",
      "Synset('parturient.s.02')\n",
      "[]\n",
      "Synset('moribund.s.02')\n",
      "[]\n",
      "Synset('last.s.05')\n",
      "[]\n",
      "Synset('able.a.01')\n",
      "[Lemma('unable.a.01.unable')]\n",
      "Synset('unable.a.01')\n",
      "[Lemma('able.a.01.able')]\n",
      "Synset('abaxial.a.01')\n",
      "[Lemma('adaxial.a.01.adaxial')]\n",
      "Synset('adaxial.a.01')\n",
      "[Lemma('abaxial.a.01.abaxial')]\n",
      "Synset('acroscopic.a.01')\n",
      "[Lemma('basiscopic.a.01.basiscopic')]\n"
     ]
    }
   ],
   "source": [
    "for i, synset in enumerate(filter(lambda x: True if x.pos()=='s' else False, all_synset)):\n",
    "    print(synset)\n",
    "    print(synset.lemmas()[0].antonyms())\n",
    "    if i>3:\n",
    "        break\n",
    "for i, synset in enumerate(filter(lambda x: True if x.pos()=='a' else False, all_synset)):\n",
    "    print(synset)\n",
    "    print(synset.lemmas()[0].antonyms())\n",
    "    if i>3:\n",
    "        break"
   ]
  },
  {
   "cell_type": "markdown",
   "metadata": {},
   "source": [
    "# synonyms\n",
    "- 의미가 같은 단어들을 찾아보자\n",
    "- wordnet에서 다른 관계를 찾을 때는 synset을 기본으로 하지만, synonym의 경우는 lemma를 통해 찾음"
   ]
  },
  {
   "cell_type": "code",
   "execution_count": 55,
   "metadata": {},
   "outputs": [
    {
     "name": "stdout",
     "output_type": "stream",
     "text": [
      "car.n.01\n",
      "definition: a motor vehicle with four wheels; usually propelled by an internal combustion engine\n",
      "synonyms: ['car', 'auto', 'automobile', 'machine', 'motorcar']\n"
     ]
    }
   ],
   "source": [
    "def same_meaning_word(synset):\n",
    "    print( synset.name() )\n",
    "    print( 'definition:', synset.definition() )\n",
    "    print('synonyms:', [lemma.name() for lemma in synset.lemmas()] )\n",
    "same_meaning_word(wn.synset('car.n.01'))"
   ]
  },
  {
   "cell_type": "markdown",
   "metadata": {},
   "source": [
    "# similarity\n",
    "- `wn.synset('dog.n.01').lemma_names()` 말고, similarity를 통해서 계산하는 것도 가능 \n",
    "- 몇 가지 similarity를 계산하는 방법이 있는데 자세히는 알기 귀찮아서 패스함ㅋㅋㅋㅋ\n",
    "    - path_similarity\n",
    "    - wup_similarity\n",
    "    - lch_similarity"
   ]
  },
  {
   "cell_type": "code",
   "execution_count": 56,
   "metadata": {
    "collapsed": true
   },
   "outputs": [],
   "source": [
    "def similar_words_between(w1, w2, simlar_func, sim_threshold, max_threshold):\n",
    "    all_combinations = [(synset1, synset2) for synset1 in wn.synsets(w1) for synset2 in wn.synsets(w2)\n",
    "                    if synset1.pos() == synset2.pos()]\n",
    "    for comb in all_combinations:\n",
    "        syn1, syn2 = comb[0], comb[1]\n",
    "        sim = simlar_func(syn1, syn2)\n",
    "        if sim is not None:\n",
    "            if sim > sim_threshold and sim<=max_threshold:\n",
    "                print(\"{}, {}:, {}\".format(syn1, syn2, simlar_func(syn1, syn2)))\n",
    "                print(syn1, syn1.definition())\n",
    "                print(syn2, syn2.definition())\n",
    "                print()"
   ]
  },
  {
   "cell_type": "markdown",
   "metadata": {},
   "source": [
    "### wn.path_similarity\n",
    "- return a core denoting how similar two word senses are, \n",
    "    - based on the shortest path that connects the senses in the is-a (hypernym/hypnoym) taxonomy. \n",
    "- The score is in the range 0 to 1. \n",
    "- By default, there is now a fake root node added to verbs so for cases where previously a path could not be found---and None was returned---it should return a value. The old behavior can be achieved by setting simulate_root to be False. A score of 1 represents identity i.e. comparing a sense with itself will return 1."
   ]
  },
  {
   "cell_type": "code",
   "execution_count": 57,
   "metadata": {},
   "outputs": [
    {
     "name": "stdout",
     "output_type": "stream",
     "text": [
      "Synset('have.v.02'), Synset('carry.v.02'):, 0.5\n",
      "Synset('have.v.02') have as a feature\n",
      "Synset('carry.v.02') have with oneself; have on one's person\n",
      "\n",
      "Synset('experience.v.03'), Synset('take.v.15'):, 0.5\n",
      "Synset('experience.v.03') go through (mental or physical states or experiences)\n",
      "Synset('take.v.15') experience or feel or submit to\n",
      "\n",
      "Synset('consume.v.02'), Synset('consume.v.02'):, 1.0\n",
      "Synset('consume.v.02') serve oneself to, or consume regularly\n",
      "Synset('consume.v.02') serve oneself to, or consume regularly\n",
      "\n",
      "Synset('accept.v.02'), Synset('accept.v.02'):, 1.0\n",
      "Synset('accept.v.02') receive willingly something given or offered\n",
      "Synset('accept.v.02') receive willingly something given or offered\n",
      "\n",
      "Synset('accept.v.02'), Synset('accept.v.05'):, 0.5\n",
      "Synset('accept.v.02') receive willingly something given or offered\n",
      "Synset('accept.v.05') admit into a group or community\n",
      "\n",
      "Synset('take.v.35'), Synset('take.v.35'):, 1.0\n",
      "Synset('take.v.35') have sex with; archaic use\n",
      "Synset('take.v.35') have sex with; archaic use\n",
      "\n"
     ]
    }
   ],
   "source": [
    "similar_words_between(\"have\", \"take\", wn.path_similarity, 0.4, 1.0)"
   ]
  },
  {
   "cell_type": "markdown",
   "metadata": {},
   "source": [
    "### wn.wup_similarity\n",
    "- Wu-Palmer Similarity: Return a score denoting how similar two word senses are, \n",
    "    - based on the depth of the two senses in the taxonomy and that of their Least Common Subsumer (most specific ancestor node). \n",
    "- Note that at this time the scores given do _not_ always agree with those given by Pedersen's Perl implementation of Wordnet Similarity."
   ]
  },
  {
   "cell_type": "code",
   "execution_count": 58,
   "metadata": {},
   "outputs": [
    {
     "name": "stdout",
     "output_type": "stream",
     "text": [
      "['car', 'auto', 'automobile', 'machine', 'motorcar']\n",
      "Synset('car.n.01'), Synset('car.n.01'):, 1.0\n",
      "Synset('car.n.01') a motor vehicle with four wheels; usually propelled by an internal combustion engine\n",
      "Synset('car.n.01') a motor vehicle with four wheels; usually propelled by an internal combustion engine\n",
      "\n",
      "Synset('car.n.02'), Synset('car.n.01'):, 0.7272727272727273\n",
      "Synset('car.n.02') a wheeled vehicle adapted to the rails of railroad\n",
      "Synset('car.n.01') a motor vehicle with four wheels; usually propelled by an internal combustion engine\n",
      "\n"
     ]
    }
   ],
   "source": [
    "print( wn.synsets('car')[0].lemma_names())\n",
    "similar_words_between(\"car\", \"auto\", wn.wup_similarity, 0.6, 1.0)"
   ]
  },
  {
   "cell_type": "code",
   "execution_count": 59,
   "metadata": {},
   "outputs": [
    {
     "name": "stdout",
     "output_type": "stream",
     "text": [
      "Synset('experience.v.03'), Synset('take.v.15'):, 0.8571428571428571\n",
      "Synset('experience.v.03') go through (mental or physical states or experiences)\n",
      "Synset('take.v.15') experience or feel or submit to\n",
      "\n",
      "Synset('experience.v.03'), Synset('take.v.19'):, 0.6666666666666666\n",
      "Synset('experience.v.03') go through (mental or physical states or experiences)\n",
      "Synset('take.v.19') accept or undergo, often unwillingly\n",
      "\n",
      "Synset('accept.v.02'), Synset('accept.v.02'):, 1.0\n",
      "Synset('accept.v.02') receive willingly something given or offered\n",
      "Synset('accept.v.02') receive willingly something given or offered\n",
      "\n",
      "Synset('accept.v.02'), Synset('accept.v.05'):, 0.8\n",
      "Synset('accept.v.02') receive willingly something given or offered\n",
      "Synset('accept.v.05') admit into a group or community\n",
      "\n",
      "Synset('suffer.v.02'), Synset('take.v.15'):, 0.75\n",
      "Synset('suffer.v.02') undergo (as of injuries and illnesses)\n",
      "Synset('take.v.15') experience or feel or submit to\n",
      "\n",
      "Synset('take.v.35'), Synset('take.v.35'):, 1.0\n",
      "Synset('take.v.35') have sex with; archaic use\n",
      "Synset('take.v.35') have sex with; archaic use\n",
      "\n"
     ]
    }
   ],
   "source": [
    "similar_words_between(\"have\", \"take\", wn.wup_similarity, 0.6, 1.0)"
   ]
  },
  {
   "cell_type": "markdown",
   "metadata": {},
   "source": [
    "### wn.lch_similarity\n",
    "- Return a score denoting how similar two word senses are, \n",
    "    - based on the shortest path that connects the senses (as above) and the maximum depth of the taxonomy in which the senses occur. \n",
    "- The relationship is given as -log(p/2d) where p is the shortest path length and d the taxonomy depth."
   ]
  },
  {
   "cell_type": "code",
   "execution_count": 60,
   "metadata": {},
   "outputs": [
    {
     "name": "stdout",
     "output_type": "stream",
     "text": [
      "Synset('have.v.02'), Synset('carry.v.02'):, 2.5649493574615367\n",
      "Synset('have.v.02') have as a feature\n",
      "Synset('carry.v.02') have with oneself; have on one's person\n",
      "\n",
      "Synset('experience.v.03'), Synset('take.v.15'):, 2.5649493574615367\n",
      "Synset('experience.v.03') go through (mental or physical states or experiences)\n",
      "Synset('take.v.15') experience or feel or submit to\n",
      "\n",
      "Synset('consume.v.02'), Synset('consume.v.02'):, 3.258096538021482\n",
      "Synset('consume.v.02') serve oneself to, or consume regularly\n",
      "Synset('consume.v.02') serve oneself to, or consume regularly\n",
      "\n",
      "Synset('accept.v.02'), Synset('accept.v.02'):, 3.258096538021482\n",
      "Synset('accept.v.02') receive willingly something given or offered\n",
      "Synset('accept.v.02') receive willingly something given or offered\n",
      "\n",
      "Synset('accept.v.02'), Synset('accept.v.05'):, 2.5649493574615367\n",
      "Synset('accept.v.02') receive willingly something given or offered\n",
      "Synset('accept.v.05') admit into a group or community\n",
      "\n",
      "Synset('take.v.35'), Synset('take.v.35'):, 3.258096538021482\n",
      "Synset('take.v.35') have sex with; archaic use\n",
      "Synset('take.v.35') have sex with; archaic use\n",
      "\n"
     ]
    }
   ],
   "source": [
    "similar_words_between(\"have\", \"take\", wn.lch_similarity, 2.5, 3.258096538021482)"
   ]
  },
  {
   "cell_type": "markdown",
   "metadata": {},
   "source": [
    "# hypernyms \n",
    "- 해당 단어의 상위 용어를 찾아보자"
   ]
  },
  {
   "cell_type": "code",
   "execution_count": 61,
   "metadata": {},
   "outputs": [
    {
     "name": "stdout",
     "output_type": "stream",
     "text": [
      "[Synset('canine.n.02'), Synset('domestic_animal.n.01')]\n",
      "[Synset('motor_vehicle.n.01')]\n"
     ]
    }
   ],
   "source": [
    "print( wn.synset('dog.n.01').hypernyms())\n",
    "print( wn.synset('car.n.01').hypernyms())"
   ]
  },
  {
   "cell_type": "code",
   "execution_count": 62,
   "metadata": {},
   "outputs": [
    {
     "name": "stdout",
     "output_type": "stream",
     "text": [
      "[Synset('devour.v.03'), Synset('consume.v.02'), Synset('consume.v.03'), Synset('consume.v.04'), Synset('consume.v.05'), Synset('consume.v.06')]\n",
      "[Synset('eat.v.01')]\n"
     ]
    }
   ],
   "source": [
    "print( wn.synsets('consume') )\n",
    "print( wn.synset('devour.v.03').hypernyms() )"
   ]
  },
  {
   "cell_type": "markdown",
   "metadata": {},
   "source": [
    "- 단지 한 단계위의 상위용어뿐만 아니라, 최상위 용어까지 검색해보자\n",
    "    - 상위용어가 단 한 개만 있는 것이 아니므로 여러 path가 나올 수 있음"
   ]
  },
  {
   "cell_type": "code",
   "execution_count": 63,
   "metadata": {},
   "outputs": [
    {
     "name": "stdout",
     "output_type": "stream",
     "text": [
      "1st path\n",
      "[Synset('entity.n.01'), Synset('physical_entity.n.01'), Synset('object.n.01'), Synset('whole.n.02'), Synset('artifact.n.01'), Synset('instrumentality.n.03'), Synset('container.n.01'), Synset('wheeled_vehicle.n.01'), Synset('self-propelled_vehicle.n.01'), Synset('motor_vehicle.n.01'), Synset('car.n.01')]\n",
      "\n",
      "2nd path\n",
      "[Synset('entity.n.01'), Synset('physical_entity.n.01'), Synset('object.n.01'), Synset('whole.n.02'), Synset('artifact.n.01'), Synset('instrumentality.n.03'), Synset('conveyance.n.03'), Synset('vehicle.n.01'), Synset('wheeled_vehicle.n.01'), Synset('self-propelled_vehicle.n.01'), Synset('motor_vehicle.n.01'), Synset('car.n.01')]\n",
      "\n"
     ]
    }
   ],
   "source": [
    "for i, hypernym_path in enumerate(wn.synset('car.n.01').hypernym_paths()):\n",
    "    print( ordinal_num(i+1), 'path')\n",
    "    print( hypernym_path )\n",
    "    print()"
   ]
  },
  {
   "cell_type": "markdown",
   "metadata": {},
   "source": [
    "# hyponyms\n",
    "- 해당 단어의 하위 용어를 찾아보자"
   ]
  },
  {
   "cell_type": "code",
   "execution_count": 64,
   "metadata": {},
   "outputs": [
    {
     "name": "stdout",
     "output_type": "stream",
     "text": [
      "[Synset('basenji.n.01'), Synset('corgi.n.01'), Synset('cur.n.01'), Synset('dalmatian.n.02'), Synset('great_pyrenees.n.01'), Synset('griffon.n.02'), Synset('hunting_dog.n.01'), Synset('lapdog.n.01'), Synset('leonberg.n.01'), Synset('mexican_hairless.n.01'), Synset('newfoundland.n.01'), Synset('pooch.n.01'), Synset('poodle.n.01'), Synset('pug.n.01'), Synset('puppy.n.01'), Synset('spitz.n.01'), Synset('toy_dog.n.01'), Synset('working_dog.n.01')]\n"
     ]
    }
   ],
   "source": [
    "print( wn.synset('dog.n.01').hyponyms())"
   ]
  },
  {
   "cell_type": "code",
   "execution_count": 65,
   "metadata": {},
   "outputs": [
    {
     "name": "stdout",
     "output_type": "stream",
     "text": [
      "[Synset('ambulance.n.01'), Synset('beach_wagon.n.01'), Synset('bus.n.04'), Synset('cab.n.03'), Synset('compact.n.03'), Synset('convertible.n.01'), Synset('coupe.n.01'), Synset('cruiser.n.01'), Synset('electric.n.01'), Synset('gas_guzzler.n.01'), Synset('hardtop.n.01'), Synset('hatchback.n.01'), Synset('horseless_carriage.n.01'), Synset('hot_rod.n.01'), Synset('jeep.n.01'), Synset('limousine.n.01'), Synset('loaner.n.02'), Synset('minicar.n.01'), Synset('minivan.n.01'), Synset('model_t.n.01'), Synset('pace_car.n.01'), Synset('racer.n.02'), Synset('roadster.n.01'), Synset('sedan.n.01'), Synset('sport_utility.n.01'), Synset('sports_car.n.01'), Synset('stanley_steamer.n.01'), Synset('stock_car.n.01'), Synset('subcompact.n.01'), Synset('touring_car.n.01'), Synset('used-car.n.01')]\n"
     ]
    }
   ],
   "source": [
    "print( wn.synset('car.n.01').hyponyms())"
   ]
  },
  {
   "cell_type": "code",
   "execution_count": 66,
   "metadata": {},
   "outputs": [
    {
     "name": "stdout",
     "output_type": "stream",
     "text": [
      "[Synset('eat.v.01'), Synset('eat.v.02'), Synset('feed.v.06'), Synset('eat.v.04'), Synset('consume.v.05'), Synset('corrode.v.01')]\n",
      "Synset('eat.v.01') : take in solid food\n"
     ]
    }
   ],
   "source": [
    "print( wn.synsets('eat') )\n",
    "eat = wn.synsets('eat')[0]\n",
    "print( eat, \":\", eat.definition())"
   ]
  },
  {
   "cell_type": "code",
   "execution_count": 67,
   "metadata": {},
   "outputs": [
    {
     "name": "stdout",
     "output_type": "stream",
     "text": [
      "[Synset('devour.v.03'), Synset('devour.v.04'), Synset('dunk.v.03'), Synset('eat_up.v.01'), Synset('fare.v.02'), Synset('fill_up.v.04'), Synset('garbage_down.v.01'), Synset('gluttonize.v.01'), Synset('gobble.v.01'), Synset('nibble.v.03'), Synset('peck.v.02'), Synset('pick_at.v.02'), Synset('pitch_in.v.01'), Synset('ruminate.v.01'), Synset('slurp.v.01'), Synset('wash_down.v.01'), Synset('wolf.v.01')]\n"
     ]
    }
   ],
   "source": [
    "print( wn.synsets('eat')[0].hyponyms())"
   ]
  },
  {
   "cell_type": "markdown",
   "metadata": {},
   "source": [
    "- 그런데 단지 바로 밑의 하위용어만 찾는 것이 아니라, hypernym_path 처럼 밑에 있는 단어를 쭉 파고 들어가고 싶다\n",
    "    - 없길래 만들어봄"
   ]
  },
  {
   "cell_type": "code",
   "execution_count": 68,
   "metadata": {},
   "outputs": [
    {
     "name": "stdout",
     "output_type": "stream",
     "text": [
      "[Synset('car.n.01'), Synset('bus.n.04')]\n",
      "[Synset('car.n.01'), Synset('compact.n.03')]\n",
      "[Synset('car.n.01'), Synset('convertible.n.01')]\n",
      "[Synset('car.n.01'), Synset('coupe.n.01')]\n",
      "[Synset('car.n.01'), Synset('electric.n.01')]\n",
      "[Synset('car.n.01'), Synset('gas_guzzler.n.01')]\n",
      "[Synset('car.n.01'), Synset('hardtop.n.01')]\n",
      "[Synset('car.n.01'), Synset('hatchback.n.01')]\n",
      "[Synset('car.n.01'), Synset('horseless_carriage.n.01')]\n",
      "[Synset('car.n.01'), Synset('hot_rod.n.01')]\n",
      "[Synset('car.n.01'), Synset('jeep.n.01')]\n",
      "[Synset('car.n.01'), Synset('loaner.n.02')]\n",
      "[Synset('car.n.01'), Synset('minivan.n.01')]\n",
      "[Synset('car.n.01'), Synset('model_t.n.01')]\n",
      "[Synset('car.n.01'), Synset('pace_car.n.01')]\n",
      "[Synset('car.n.01'), Synset('roadster.n.01')]\n",
      "[Synset('car.n.01'), Synset('sport_utility.n.01')]\n",
      "[Synset('car.n.01'), Synset('sports_car.n.01')]\n",
      "[Synset('car.n.01'), Synset('stanley_steamer.n.01')]\n",
      "[Synset('car.n.01'), Synset('stock_car.n.01')]\n",
      "[Synset('car.n.01'), Synset('subcompact.n.01')]\n",
      "[Synset('car.n.01'), Synset('touring_car.n.01')]\n",
      "[Synset('car.n.01'), Synset('used-car.n.01')]\n",
      "[Synset('car.n.01'), Synset('ambulance.n.01'), Synset('funny_wagon.n.01')]\n",
      "[Synset('car.n.01'), Synset('beach_wagon.n.01'), Synset('shooting_brake.n.01')]\n",
      "[Synset('car.n.01'), Synset('cab.n.03'), Synset('gypsy_cab.n.01')]\n",
      "[Synset('car.n.01'), Synset('cab.n.03'), Synset('minicab.n.01')]\n",
      "[Synset('car.n.01'), Synset('cruiser.n.01'), Synset('panda_car.n.01')]\n",
      "[Synset('car.n.01'), Synset('limousine.n.01'), Synset('berlin.n.03')]\n",
      "[Synset('car.n.01'), Synset('minicar.n.01'), Synset('minicab.n.01')]\n",
      "[Synset('car.n.01'), Synset('racer.n.02'), Synset('finisher.n.05')]\n",
      "[Synset('car.n.01'), Synset('racer.n.02'), Synset('stock_car.n.02')]\n",
      "[Synset('car.n.01'), Synset('sedan.n.01'), Synset('brougham.n.02')]\n"
     ]
    }
   ],
   "source": [
    "def hyponym_paths(synset, depth):\n",
    "    cur_level = [[synset]]\n",
    "    for i in range(0, depth-1):\n",
    "        next_level =[]\n",
    "        for cur in cur_level:\n",
    "            if cur[-1].hyponyms()!=[]:\n",
    "                for hypo in cur[-1].hyponyms():\n",
    "                    next_level.append( cur+[hypo] )\n",
    "            else:\n",
    "                next_level.append(cur)\n",
    "        cur_level = next_level.copy()\n",
    "    for cur in sorted(cur_level, key=lambda x: len(x)):\n",
    "        print(cur)\n",
    "hyponym_paths(wn.synset('car.n.01'), 3)"
   ]
  },
  {
   "cell_type": "code",
   "execution_count": 69,
   "metadata": {},
   "outputs": [
    {
     "name": "stdout",
     "output_type": "stream",
     "text": [
      "[Synset('eat.v.01'), Synset('devour.v.03')]\n",
      "[Synset('eat.v.01'), Synset('devour.v.04')]\n",
      "[Synset('eat.v.01'), Synset('dunk.v.03')]\n",
      "[Synset('eat.v.01'), Synset('fare.v.02')]\n",
      "[Synset('eat.v.01'), Synset('fill_up.v.04')]\n",
      "[Synset('eat.v.01'), Synset('garbage_down.v.01')]\n",
      "[Synset('eat.v.01'), Synset('gluttonize.v.01')]\n",
      "[Synset('eat.v.01'), Synset('gobble.v.01')]\n",
      "[Synset('eat.v.01'), Synset('nibble.v.03')]\n",
      "[Synset('eat.v.01'), Synset('peck.v.02')]\n",
      "[Synset('eat.v.01'), Synset('pick_at.v.02')]\n",
      "[Synset('eat.v.01'), Synset('pitch_in.v.01')]\n",
      "[Synset('eat.v.01'), Synset('ruminate.v.01')]\n",
      "[Synset('eat.v.01'), Synset('slurp.v.01')]\n",
      "[Synset('eat.v.01'), Synset('wash_down.v.01')]\n",
      "[Synset('eat.v.01'), Synset('wolf.v.01')]\n",
      "[Synset('eat.v.01'), Synset('eat_up.v.01'), Synset('tuck_in.v.01')]\n"
     ]
    }
   ],
   "source": [
    "hyponym_paths(wn.synset('eat.v.01'), 3)"
   ]
  },
  {
   "cell_type": "markdown",
   "metadata": {},
   "source": [
    "# antonyms\n",
    "- antonyms의 경우 lemma를 써야함, 이유는 귀찮....\n",
    "- some relations are defined by WordNet only over Lemmas"
   ]
  },
  {
   "cell_type": "code",
   "execution_count": 70,
   "metadata": {},
   "outputs": [
    {
     "data": {
      "text/plain": [
       "[Lemma('bad.a.01.bad')]"
      ]
     },
     "execution_count": 70,
     "metadata": {},
     "output_type": "execute_result"
    }
   ],
   "source": [
    "wn.synset('good.a.01').lemmas()[0].antonyms()"
   ]
  },
  {
   "cell_type": "code",
   "execution_count": 71,
   "metadata": {},
   "outputs": [
    {
     "data": {
      "text/plain": [
       "[Lemma('ugly.a.01.ugly')]"
      ]
     },
     "execution_count": 71,
     "metadata": {},
     "output_type": "execute_result"
    }
   ],
   "source": [
    "wn.synset('beautiful.a.01').lemmas()[0].antonyms()"
   ]
  },
  {
   "cell_type": "markdown",
   "metadata": {},
   "source": [
    "# holonyms\n",
    "- is a member of\n",
    "- `wn.synset('human.n.01').member_holonyms()` => human is a member of something"
   ]
  },
  {
   "cell_type": "code",
   "execution_count": 72,
   "metadata": {},
   "outputs": [
    {
     "name": "stdout",
     "output_type": "stream",
     "text": [
      "Synset('genus_homo.n.01')\n",
      "definition: type genus of the family Hominidae\n"
     ]
    }
   ],
   "source": [
    "def all_holonyms(word):\n",
    "    for holonym in wn.synset(word).member_holonyms():\n",
    "        print(holonym)\n",
    "        print('definition:', holonym.definition())\n",
    "all_holonyms('human.n.01')"
   ]
  },
  {
   "cell_type": "code",
   "execution_count": 73,
   "metadata": {},
   "outputs": [
    {
     "name": "stdout",
     "output_type": "stream",
     "text": [
      "Synset('canis.n.01')\n",
      "definition: type genus of the Canidae: domestic and wild dogs; wolves; jackals\n",
      "Synset('pack.n.06')\n",
      "definition: a group of hunting animals\n"
     ]
    }
   ],
   "source": [
    "all_holonyms('dog.n.01')"
   ]
  },
  {
   "cell_type": "code",
   "execution_count": 74,
   "metadata": {},
   "outputs": [
    {
     "name": "stdout",
     "output_type": "stream",
     "text": [
      "Synset('panthera.n.01')\n",
      "definition: lions; leopards; snow leopards; jaguars; tigers; cheetahs; saber-toothed tigers\n",
      "Synset('pride.n.04')\n",
      "definition: a group of lions\n"
     ]
    }
   ],
   "source": [
    "all_holonyms('lion.n.01')"
   ]
  },
  {
   "cell_type": "markdown",
   "metadata": {},
   "source": [
    "# meronyms\n",
    "- `wn.synset('face.n.01').part_meronyms()` => something is part of face"
   ]
  },
  {
   "cell_type": "code",
   "execution_count": 75,
   "metadata": {},
   "outputs": [
    {
     "data": {
      "text/plain": [
       "[Synset('beard.n.01'),\n",
       " Synset('brow.n.01'),\n",
       " Synset('cheek.n.01'),\n",
       " Synset('chin.n.01'),\n",
       " Synset('eye.n.01'),\n",
       " Synset('eyebrow.n.01'),\n",
       " Synset('facial.n.01'),\n",
       " Synset('facial_muscle.n.01'),\n",
       " Synset('facial_vein.n.01'),\n",
       " Synset('feature.n.02'),\n",
       " Synset('jaw.n.02'),\n",
       " Synset('jowl.n.02'),\n",
       " Synset('mouth.n.02'),\n",
       " Synset('nose.n.01')]"
      ]
     },
     "execution_count": 75,
     "metadata": {},
     "output_type": "execute_result"
    }
   ],
   "source": [
    "wn.synset('face.n.01').part_meronyms()"
   ]
  },
  {
   "cell_type": "code",
   "execution_count": 76,
   "metadata": {},
   "outputs": [
    {
     "data": {
      "text/plain": [
       "[Synset('arm.n.01'),\n",
       " Synset('body_hair.n.01'),\n",
       " Synset('face.n.01'),\n",
       " Synset('foot.n.01'),\n",
       " Synset('hand.n.01'),\n",
       " Synset('human_body.n.01'),\n",
       " Synset('human_head.n.01'),\n",
       " Synset('loin.n.02'),\n",
       " Synset('mane.n.02')]"
      ]
     },
     "execution_count": 76,
     "metadata": {},
     "output_type": "execute_result"
    }
   ],
   "source": [
    "wn.synset('human.n.01').part_meronyms()"
   ]
  },
  {
   "cell_type": "markdown",
   "metadata": {},
   "source": [
    "# Reference\n",
    "- https://web.stanford.edu/class/cs124/lec/sem\n",
    "- https://pythonprogramming.net/wordnet-nltk-tutorial/"
   ]
  }
 ],
 "metadata": {
  "kernelspec": {
   "display_name": "Python [conda root]",
   "language": "python",
   "name": "conda-root-py"
  },
  "language_info": {
   "codemirror_mode": {
    "name": "ipython",
    "version": 3
   },
   "file_extension": ".py",
   "mimetype": "text/x-python",
   "name": "python",
   "nbconvert_exporter": "python",
   "pygments_lexer": "ipython3",
   "version": "3.5.3"
  }
 },
 "nbformat": 4,
 "nbformat_minor": 2
}
