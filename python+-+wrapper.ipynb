{
 "cells": [
  {
   "cell_type": "markdown",
   "metadata": {},
   "source": [
    "## Aspect - oriented Programming and Decorator in python\n",
    "\n",
    "- 최근 `java`를 공부하고 있는데, java에서 AOP(Aspect oriented Programming)이라는 것이 나온다. \n",
    "- 간단하게 설명하면, 거대 프로그램을 만들어야 할 때, 공통기능, 특수 기능을 구분하고, 특수기능에서 앞/뒤/혹은 수행 상 특정 시점에서 공통 기능이 필요할 경우, 정의해놓은 공통기능에서 불러와서 조립하는 식으로 운영하는 것을 말한다. \n",
    "- 예를 들어 말하자면, '물을 받는 것'은 공통 기능이고, '특정 요리를 만드는 것'은 특수기능일 때, 특수기능 수행시에는 물을 받는 것이 반복적으로 수행되지 않나? 이것을 지원하는 것이 AOP, 시점 지향적인 프로그래밍이라는 것이다. \n",
    "- 강의에서는 예시로 특수기능마다 앞뒤로 수행시간을 로깅해주는 함수를 만들었는데, 이게 파이썬에서의 decorator와 너무도 유사한 것이다. 그래서 aop공부하다가 decorator도 함께 공부해봄"
   ]
  },
  {
   "cell_type": "code",
   "execution_count": 1,
   "metadata": {
    "collapsed": true
   },
   "outputs": [],
   "source": [
    "# simple time logger\n",
    "def time_logger(func):\n",
    "    import time\n",
    "    def wrapper(*args, **kwargs):\n",
    "        start = time.time()\n",
    "        print('time logging start: {}'.format(start))\n",
    "        return_value = func(*args, **kwargs)\n",
    "        end = time.time()\n",
    "        print('time logging end: {}'.format(end))\n",
    "        print('compuation time is {}'.format(end-start))\n",
    "        return return_value\n",
    "    return wrapper"
   ]
  },
  {
   "cell_type": "markdown",
   "metadata": {},
   "source": [
    "- 그래 좋은데 저걸 언제 쓰냐? \n",
    "- 내가 함수를 만들고 나서, 얘가 정말, 빨리 돌아가는게 맞는지, 확인하고 싶을 때가 있다. \n",
    "- 그런데, 매번 모두 함수마다, 앞에 time.time()를 넣어주는게 엄청나게 귀찮고, 그렇다면, 함수의 앞 뒤로 필요한 기능을 추가하는게 좋다 "
   ]
  },
  {
   "cell_type": "code",
   "execution_count": 2,
   "metadata": {},
   "outputs": [
    {
     "name": "stdout",
     "output_type": "stream",
     "text": [
      "time logging start: 1508915382.4293952\n",
      "number: 10,000,000\n",
      "time logging end: 1508915383.690395\n",
      "compuation time is 1.2609999179840088\n",
      "time logging start: 1508915383.690395\n",
      "number: 10,000,000\n",
      "time logging end: 1508915384.8143945\n",
      "compuation time is 1.1239993572235107\n"
     ]
    },
    {
     "data": {
      "text/plain": [
       "49999995000000"
      ]
     },
     "execution_count": 2,
     "metadata": {},
     "output_type": "execute_result"
    }
   ],
   "source": [
    "import numpy as np\n",
    "@time_logger\n",
    "def test1(n):\n",
    "    print(\"number: {:,}\".format(n))\n",
    "    return sum([ i for i in range(0, n)])\n",
    "@time_logger\n",
    "def test2(n):\n",
    "    print(\"number: {:,}\".format(n))\n",
    "    return sum(( i for i in range(0, n)))\n",
    "test1(10000000)\n",
    "test2(10000000)"
   ]
  },
  {
   "cell_type": "markdown",
   "metadata": {},
   "source": [
    "- args, kwargs는 무엇인가? \n",
    "- 각각 값으로 넘겨 받은 인자들, key:value로 넘겨 받은 인자들을 말한다. \n",
    "- 예를 들면 아래와 같다.\n",
    "    - 단 decorator가 아닐 때는 그다지 쓸 일이 없다. 일종의 generic"
   ]
  },
  {
   "cell_type": "code",
   "execution_count": 4,
   "metadata": {},
   "outputs": [
    {
     "name": "stdout",
     "output_type": "stream",
     "text": [
      "(1, 2, 3, 4, 5)\n",
      "{}\n",
      "over\n",
      "(1, 2, 3, 4, 5)\n",
      "{'c': 3, 'b': 1, 'a': 10}\n",
      "over\n"
     ]
    }
   ],
   "source": [
    "def func(*args, **kwargs):\n",
    "    print(args)\n",
    "    print(kwargs)\n",
    "    print(\"over\")\n",
    "func(1,2,3,4,5)\n",
    "func(1,2,3,4,5, a=10, b=1, c=3)"
   ]
  },
  {
   "cell_type": "markdown",
   "metadata": {},
   "source": [
    "- 또, functools에서 꽤 유용한 decorator를 지원한다. "
   ]
  },
  {
   "cell_type": "markdown",
   "metadata": {},
   "source": [
    "- lru_cache의 경우는 memozing을 지원하는데 ~~~~ 최근 값을 recnet cache에 박아두고 활용하는 것을 의미하는 듯\n",
    "\"Decorator to wrap a function with a memoizing callable that saves up to the maxsize most recent calls. It can save time when an expensive or I/O bound function is periodically called with the same arguments.\"\n",
    "- memoization: \n",
    "    - In computing, memoization or memoisation is an optimization technique used primarily to speed up computer programs by storing the results of expensive function calls and returning the cached result when the same inputs occur again."
   ]
  },
  {
   "cell_type": "markdown",
   "metadata": {},
   "source": [
    "- memoization이 없는 경우 에는 피보나치 수를 33 돌리는데, 2초 넘게 수행되는 반면\n",
    "    - 이 경우, 피보나치 수를 40이상 계산하면 시간이 기하급수적으로 증가한다.\n",
    "- memoization이 있는 경우, 피보나치 수를 200까지 돌려도, 문제가 없다. "
   ]
  },
  {
   "cell_type": "code",
   "execution_count": 18,
   "metadata": {},
   "outputs": [
    {
     "name": "stdout",
     "output_type": "stream",
     "text": [
      "3524578\n",
      "2.2419958114624023\n"
     ]
    }
   ],
   "source": [
    "# memoization 없는 경우, \n",
    "import time\n",
    "\n",
    "def fib(n):\n",
    "    if n < 2:\n",
    "        return n\n",
    "    return fib(n-1) + fib(n-2)\n",
    "\n",
    "a = time.time()\n",
    "print( fib(33) )\n",
    "b = time.time()\n",
    "print(b-a)"
   ]
  },
  {
   "cell_type": "code",
   "execution_count": 19,
   "metadata": {},
   "outputs": [
    {
     "name": "stdout",
     "output_type": "stream",
     "text": [
      "280571172992510140037611932413038677189525\n",
      "0.0\n"
     ]
    }
   ],
   "source": [
    "from functools import lru_cache\n",
    "\n",
    "@lru_cache(maxsize=None)\n",
    "# least recently used caches\n",
    "def fib(n):\n",
    "    if n < 2:\n",
    "        return n\n",
    "    return fib(n-1) + fib(n-2)\n",
    "\n",
    "a = time.time()\n",
    "print( fib(200) )\n",
    "b = time.time()\n",
    "print(b-a)"
   ]
  }
 ],
 "metadata": {
  "kernelspec": {
   "display_name": "Python [conda root]",
   "language": "python",
   "name": "conda-root-py"
  },
  "language_info": {
   "codemirror_mode": {
    "name": "ipython",
    "version": 3
   },
   "file_extension": ".py",
   "mimetype": "text/x-python",
   "name": "python",
   "nbconvert_exporter": "python",
   "pygments_lexer": "ipython3",
   "version": "3.5.3"
  }
 },
 "nbformat": 4,
 "nbformat_minor": 2
}
