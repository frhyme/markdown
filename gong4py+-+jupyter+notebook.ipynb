{
 "cells": [
  {
   "cell_type": "markdown",
   "metadata": {},
   "source": [
    "# jupyter notebook tutorial \n",
    "\n",
    "## 시작하기전에\n",
    "\n",
    "## IDE는 뭘까요? \n",
    "\n",
    "- 통합개발환경, \n",
    "- 코딩, 디버그, 컴파일, 배포 등 프로그램 개발에 관련된 모든 작업을 하나의 프로그램 안에서 처리하는 환경을 제공하는 소프트웨어\n",
    "\n",
    "## IDE 취향존중.  \n",
    "\n",
    "- 제 생각에, IDE는 취향의 문제입니다. 저는 python으로 개발할 때는 항상 `jupyter notebook`을 좋아라 하고 쓰고 있지만, 남들은 \n",
    "- 가끔 visual studio에 python을 올려서 쓰는 경우의 개발자들도 봅니다만, 저는 이해가 안되지만, 제가 이해할 필요는 없죠. 각자의 방식이 있습니다. \n",
    "- 다만, '내가 개발하려고 하는 영역(언어, 라이브러리, 용도 등)에 적합한 IDE를 쓰는게 좋을까?'라는 고민은 중요한 것 같아요.\n",
    "    - 뭐 사실 안해도 됩니다. 취존. \n",
    "- 아무튼 당신이 안 쓰는 건 상관없는데, 욕하지 마세요. 무플 환영합니다. \n",
    "\n",
    "## 당신은 뭘 써봤습니까? \n",
    "\n",
    "- 세상에 많은 IDE가 있습니다. 제가 써본건 아래 밖에 없는데요 \n",
    "    - visual studio - c++ \n",
    "    - vs code - python, markdown \n",
    "    - eclipse - java\n",
    "    - vim(이게 ide가 맞는지 모르겠지만) - c++, python \n",
    "    - atom(이것도 ide가 맞는지 모르겠지만) - markdown\n",
    "    - jupyter notebook - python \n",
    "\n",
    "## 그래서 jupyter notebook을 왜 쓰나요\n",
    "\n",
    "- 사실 이제 기억이 잘 안납니다. 그냥 쓰다보니 쓰게 되었습니다. \n",
    "- 앞으로도 큰 문제가 없다면, 첫 코드는 jupyter notebook으로 시작할 것 같아요. 이후 체계적인 코드 관리가 필요할 경우에는 vs code로 넘어가지 않을까 싶습니다만. \n",
    "\n",
    "## jupyter notebook이 뭔가요? \n",
    "\n",
    "- 브라우저에서 돌아가는 IDE, terminal에서 jupyter notebook을 실행하면, jupyter notebook 웹서버가 실행되고 브라우저에서 동작됨. \n",
    "- 하나의 .ipynb 내에는 다양한 cell이 존재하며, \n",
    "    - 개별 cell은 raw, markdown, code로 구분됨. \n",
    "- 또한, .ipynb는 다음 형태의 file들로 컨버팅이 가능함(다만, 종종 오류는 발생)\n",
    "    - .pdf: 한글이 안되는 경우 종봉 발생\n",
    "    - .py: python 파일, raw, markdown cell은 자동으로 주석처리 \n",
    "    - .html: html\n",
    "    - .md: 마크다운 파일, 개인적으로는 마크다운 파일로 변환하고, atom등에서 pdf로 다시 변환하는 식으로 활용 \n",
    "- .ipynb 파일을 하나의  kernel별로 구분할 수 있어서, 내부에 python2, 3, javascript, R등을 포팅해서 쓰는 사람들도 있음\n",
    "    - 물론 저는 한번 R을 포팅했다가 기존 파이썬3도 망해서 건드리지 않습니다 헤헤 \n",
    "- 자세한 내용은 나중에 설명할게요 "
   ]
  },
  {
   "cell_type": "markdown",
   "metadata": {},
   "source": [
    "## 그래서 jupyter notebook은 어떤 게 좋다고 생각하나요? \n",
    "\n",
    "- 앞서 말한것처럼 저는 다른 IDE를 써본 일이 많지 않습니다. 제대로 써본건, visual studio뿐인데,\n",
    "- 제가 지금 말하는 장점은 아마도 저 visual studio와 비교했을 때의 장점입니다. \n",
    "- 아무튼, 오늘 왜 이렇게 변명이 긴지 모르겠지만, 아무튼 그렇습니다. \n",
    "\n",
    "### 돌다리를 두들기며 코딩하기 \n",
    "\n",
    "- 저는 제 자신이 굉장히 error-prone한 사람인 것을 알고 있기 때문에, 함수 하나를 코딩할 때마다 매번 '이게 잘 되나'를 체크하는 버릇이 있습니다. \n",
    "- 제 경험상) 다른 IDE에서 코딩할 때는 그걸 매번 체크하는 게 jupyter notebook보다는 불편하고, 또 만든 함수 하나에 대해서만 체크하는 게 상대적으로 불편합니다. \n",
    "- 저는 간단하게 함수를 체크하거나, 기억이 잘 안나거나 아무튼 기존 코드에 새로 코드를 짜넣을 때, 요놈이 잘 되는지 확인하기 위해서 새로 코드 셀을 만들어서 체크한 뒤에 넣습니다. \n",
    "\n",
    "### interactive coding - especially, pandas and matplotlib \n",
    "\n",
    "- 저는 주로 pandas 와 matplotlib를 쓰는데, 이 두 lib 모두 코딩하면서 지금 맞게 하고 있는지 확인해야 할 일이 많습니다. \n",
    "- pandas의 경우, 데이터를 전처리할 때 많이 쓰는데, 지금 내가 전처리를 제대로 했나 체크하면서 해야 되는 경우가 많고 \n",
    "- matplotlib의 경우, 데이터를 플로팅해서 차트를 뽑아보면서 진행할 일이 많은데, \n",
    "- 일반 IDE에서는 매번 테이블을 계속 확인하면서(파일이나, 아니면 개별코드를 실행한다거나) 다시 코드로 돌아오는게 조금 귀찮고, 그림도 마찬가지죠. \n",
    "- jupyter notebook에서는 이게 좀 편합니다. 셀 바로 밑에 테이블이나 그림이 뜨기 때문에, 바로바로 확인하면서 진행할 수 있는 면이 있죠. \n",
    "    - (물론 개인차는 있고, 각자 알아서 판단하시면 될것 같습니다)\n",
    "\n",
    "### library notebook\n",
    "\n",
    "- 말 그대로 노트북이라서, 저의 경우에는 라이브러리를 공부하고 jupyter notebook에 마크다운과 코드 셀로 정리해서 둔 다음 나중에 필요할 때, 혹은 잊어버려을 때 셀 바이 셀로 돌려보면서 복기합니다. \n",
    "- 일반 코드로 두면 전체 코드를 어디서 부터 뜯어봐야 되나 갑갑할 때가 있는데, markdown, code로 개별 기능별로 쭉 정리를 해서 두면 나중에 복기하기에 아주 좋습니다. \n",
    "- markdown의 경우 matplotlib로 만든 그림을 upload하려면 그림이 웹에 있거나, 파일을 함께 가지고 다녀야 하는데, github은 .ipynb repository를 인식해줘서 자동으로 렌더링해줍니다. \n",
    "\n",
    "### modularization \n",
    "\n",
    "- 예전에는 쓸데없이 main 함수만 길었던 기억이 있습니다. \n",
    "- 그런데 cell by cell로 짜다보면, 한 cell이 너무 길어지면 좀 꼴보기 싫거든요. 그래서 함수로 만들어서 처리를 하는 경우가 꽤 있습니다. \n",
    "- 그러다보니 예전보다 함수화시켜서 코딩하려는 습관이 자연스럽게 생기는 것 같아요. \n",
    "    - 물론 잘 modularization한 것인지에 대해서는 잘 모르겠네요. "
   ]
  },
  {
   "cell_type": "markdown",
   "metadata": {},
   "source": [
    "## 이제야 시작합니다. - 오늘의 순서 \n",
    "\n",
    "- cell type\n",
    "- keyboard shortcut(제가 쓰는것만)\n",
    "- magic command\n",
    "- IPython.display "
   ]
  },
  {
   "cell_type": "markdown",
   "metadata": {},
   "source": [
    "### cell type"
   ]
  },
  {
   "cell_type": "markdown",
   "metadata": {},
   "source": [
    "#### this is markdown cell \n",
    "- 이건 마크다운 셀이에요. \n",
    "- markdown 문법에 맞춰 글을 씁니다. \n",
    "- 이건 latex입니다 $$e^x=\\sum_{i=0}^\\infty \\frac{1}{i!}x^i$$\n",
    "- 요런 식으로 내가 만드려고 하는 것들을 주석보다 더 잘 정리된 형태로 정리할 수 있죠. "
   ]
  },
  {
   "cell_type": "code",
   "execution_count": 1,
   "metadata": {},
   "outputs": [
    {
     "name": "stdout",
     "output_type": "stream",
     "text": [
      "10\n"
     ]
    }
   ],
   "source": [
    "\"\"\"\n",
    "이건 code cell입니다. \n",
    "밑에 해당 cell의 결과가 출력됩니다. \n",
    "왼쪽에 in[3]은 실행 순서를 말합니다. n번째로 실행된 cell이라는 얘기죠. \n",
    "\"\"\"\n",
    "print(10)"
   ]
  },
  {
   "cell_type": "code",
   "execution_count": 2,
   "metadata": {},
   "outputs": [
    {
     "data": {
      "text/html": [
       "<div>\n",
       "<style>\n",
       "    .dataframe thead tr:only-child th {\n",
       "        text-align: right;\n",
       "    }\n",
       "\n",
       "    .dataframe thead th {\n",
       "        text-align: left;\n",
       "    }\n",
       "\n",
       "    .dataframe tbody tr th {\n",
       "        vertical-align: top;\n",
       "    }\n",
       "</style>\n",
       "<table border=\"1\" class=\"dataframe\">\n",
       "  <thead>\n",
       "    <tr style=\"text-align: right;\">\n",
       "      <th></th>\n",
       "      <th>A</th>\n",
       "      <th>B</th>\n",
       "      <th>C</th>\n",
       "      <th>D</th>\n",
       "      <th>E</th>\n",
       "    </tr>\n",
       "  </thead>\n",
       "  <tbody>\n",
       "    <tr>\n",
       "      <th>0</th>\n",
       "      <td>1</td>\n",
       "      <td>0</td>\n",
       "      <td>0</td>\n",
       "      <td>0</td>\n",
       "      <td>0</td>\n",
       "    </tr>\n",
       "    <tr>\n",
       "      <th>1</th>\n",
       "      <td>1</td>\n",
       "      <td>1</td>\n",
       "      <td>1</td>\n",
       "      <td>1</td>\n",
       "      <td>1</td>\n",
       "    </tr>\n",
       "    <tr>\n",
       "      <th>2</th>\n",
       "      <td>1</td>\n",
       "      <td>2</td>\n",
       "      <td>4</td>\n",
       "      <td>8</td>\n",
       "      <td>16</td>\n",
       "    </tr>\n",
       "    <tr>\n",
       "      <th>3</th>\n",
       "      <td>1</td>\n",
       "      <td>3</td>\n",
       "      <td>9</td>\n",
       "      <td>27</td>\n",
       "      <td>81</td>\n",
       "    </tr>\n",
       "    <tr>\n",
       "      <th>4</th>\n",
       "      <td>1</td>\n",
       "      <td>4</td>\n",
       "      <td>16</td>\n",
       "      <td>64</td>\n",
       "      <td>256</td>\n",
       "    </tr>\n",
       "    <tr>\n",
       "      <th>5</th>\n",
       "      <td>1</td>\n",
       "      <td>5</td>\n",
       "      <td>25</td>\n",
       "      <td>125</td>\n",
       "      <td>625</td>\n",
       "    </tr>\n",
       "    <tr>\n",
       "      <th>6</th>\n",
       "      <td>1</td>\n",
       "      <td>6</td>\n",
       "      <td>36</td>\n",
       "      <td>216</td>\n",
       "      <td>1296</td>\n",
       "    </tr>\n",
       "    <tr>\n",
       "      <th>7</th>\n",
       "      <td>1</td>\n",
       "      <td>7</td>\n",
       "      <td>49</td>\n",
       "      <td>343</td>\n",
       "      <td>2401</td>\n",
       "    </tr>\n",
       "    <tr>\n",
       "      <th>8</th>\n",
       "      <td>1</td>\n",
       "      <td>8</td>\n",
       "      <td>64</td>\n",
       "      <td>512</td>\n",
       "      <td>4096</td>\n",
       "    </tr>\n",
       "    <tr>\n",
       "      <th>9</th>\n",
       "      <td>1</td>\n",
       "      <td>9</td>\n",
       "      <td>81</td>\n",
       "      <td>729</td>\n",
       "      <td>6561</td>\n",
       "    </tr>\n",
       "  </tbody>\n",
       "</table>\n",
       "</div>"
      ],
      "text/plain": [
       "   A  B   C    D     E\n",
       "0  1  0   0    0     0\n",
       "1  1  1   1    1     1\n",
       "2  1  2   4    8    16\n",
       "3  1  3   9   27    81\n",
       "4  1  4  16   64   256\n",
       "5  1  5  25  125   625\n",
       "6  1  6  36  216  1296\n",
       "7  1  7  49  343  2401\n",
       "8  1  8  64  512  4096\n",
       "9  1  9  81  729  6561"
      ]
     },
     "execution_count": 2,
     "metadata": {},
     "output_type": "execute_result"
    }
   ],
   "source": [
    "\"\"\"\n",
    "jupyter notebook 의 code cell은 cell을 실행하고, 마지막 줄에 있는 내용은 실행하고 return 결과를 표시해줍니다. \n",
    "print를 쓰지 않아도요. \n",
    "print를 했을 때보다, 아래처럼 그냥 뒀을 때가 더 이뻐서, 저는 이렇게 씁니당\n",
    "\"\"\"\n",
    "import pandas as pd\n",
    "pd.DataFrame({chr(i+65):[j**i for j in range(0, 10)] for i in range(0, 5)})"
   ]
  },
  {
   "cell_type": "code",
   "execution_count": 3,
   "metadata": {},
   "outputs": [],
   "source": [
    "import pandas as pd\n",
    "a=pd.DataFrame({chr(i+65):[j**i for j in range(0, 10)] for i in range(0, 5)})"
   ]
  },
  {
   "cell_type": "code",
   "execution_count": 4,
   "metadata": {},
   "outputs": [
    {
     "name": "stdout",
     "output_type": "stream",
     "text": [
      "   A  B   C    D     E\n",
      "0  1  0   0    0     0\n",
      "1  1  1   1    1     1\n",
      "2  1  2   4    8    16\n",
      "3  1  3   9   27    81\n",
      "4  1  4  16   64   256\n",
      "5  1  5  25  125   625\n",
      "6  1  6  36  216  1296\n",
      "7  1  7  49  343  2401\n",
      "8  1  8  64  512  4096\n",
      "9  1  9  81  729  6561\n"
     ]
    }
   ],
   "source": [
    "import pandas as pd\n",
    "a=pd.DataFrame({chr(i+65):[j**i for j in range(0, 10)] for i in range(0, 5)})\n",
    "print(a)"
   ]
  },
  {
   "cell_type": "code",
   "execution_count": 5,
   "metadata": {},
   "outputs": [
    {
     "data": {
      "text/plain": [
       "'\\n그리고 cell 별로 namespace는 공유됩니다. \\n이게 jupyter notebook의 약간 특이한 점인데\\n그리고 cell 의 순서가 마음대로에요. \\n밑을 보시면, 왼쪽의 숫자가, 81, 83, 84인 것을 알 수 있는데, 저 순서대로 실행되었다는 말이죠. \\n이게 헷갈리면, 매번 kernel - restart and run all 을 실행하는게 마음이 편하지용\\n'"
      ]
     },
     "execution_count": 5,
     "metadata": {},
     "output_type": "execute_result"
    }
   ],
   "source": [
    "\"\"\"\n",
    "그리고 cell 별로 namespace는 공유됩니다. \n",
    "이게 jupyter notebook의 약간 특이한 점인데\n",
    "그리고 cell 의 순서가 마음대로에요. \n",
    "밑을 보시면, 왼쪽의 숫자가, 81, 83, 84인 것을 알 수 있는데, 저 순서대로 실행되었다는 말이죠. \n",
    "이게 헷갈리면, 매번 kernel - restart and run all 을 실행하는게 마음이 편하지용\n",
    "\"\"\""
   ]
  },
  {
   "cell_type": "code",
   "execution_count": 6,
   "metadata": {
    "collapsed": true
   },
   "outputs": [],
   "source": [
    "a = 10"
   ]
  },
  {
   "cell_type": "code",
   "execution_count": 7,
   "metadata": {},
   "outputs": [
    {
     "name": "stdout",
     "output_type": "stream",
     "text": [
      "10\n"
     ]
    }
   ],
   "source": [
    "print(a)"
   ]
  },
  {
   "cell_type": "code",
   "execution_count": 8,
   "metadata": {},
   "outputs": [],
   "source": [
    "a+=1"
   ]
  },
  {
   "cell_type": "raw",
   "metadata": {},
   "source": [
    "이건 그냥 raw NBconvert 라는 거에요. \n",
    "그냥 아무것도 없는 메모장이라고 생각하시면 심플합니다. "
   ]
  },
  {
   "cell_type": "markdown",
   "metadata": {},
   "source": [
    "## keyboard shortcut(OS 별로 조금씩 다름, 지금은 mac 기준)\n",
    "\n",
    "### edit mode(cursor 가 cell 내부에 있을 때)\n",
    "\n",
    "- shift + enter: 해당 cell 실행 \n",
    "- shfit + ctrl + -: cursor 기준 cell split\n",
    "- shift + m: 선택된 cell 들 merge\n",
    "\n",
    "### command mode(cursor가 cell 내부에 없을 때)\n",
    "\n",
    "- shift + enter: 해당 cell 실행 \n",
    "- j, k: 위의 cell로 이동, 아래의 cell로 이동 \n",
    "    - shift + j, k: cell block \n",
    "- y: to code cell \n",
    "- m: to markdown \n",
    "- h: show keyboard shortcut\n",
    "- d, d: delete selected cell \n",
    "- x: cut the cell\n",
    "- c: copy the cell \n",
    "- v: pate the cell below"
   ]
  },
  {
   "cell_type": "markdown",
   "metadata": {},
   "source": [
    "### magic command\n",
    "\n",
    "- 보통 ide에서 terminal과 code editing은 구분되어 있는데 jupyter notebook에서는 바로 %을 통해 쓸 수 있어요. \n",
    "- %, %%, ! 모두 비슷한데 아래처럼 분류할 수 있어요. \n",
    "    - %: one line command\n",
    "    - %%: one cell command\n",
    "    - !: cell command and return its result "
   ]
  },
  {
   "cell_type": "code",
   "execution_count": 9,
   "metadata": {},
   "outputs": [
    {
     "name": "stdout",
     "output_type": "stream",
     "text": [
      "Untitled.ipynb                    gong4py - jupyter notebook.ipynb\r\n",
      "a.py\r\n"
     ]
    }
   ],
   "source": [
    "%ls # 그냥 바로 실행"
   ]
  },
  {
   "cell_type": "code",
   "execution_count": 10,
   "metadata": {},
   "outputs": [
    {
     "name": "stdout",
     "output_type": "stream",
     "text": [
      "['Untitled.ipynb', 'a.py', 'gong4py - jupyter notebook.ipynb']\n"
     ]
    }
   ],
   "source": [
    "a = !ls # 실행 결과를 변수에 넣어줌. \n",
    "print(a)"
   ]
  },
  {
   "cell_type": "code",
   "execution_count": 11,
   "metadata": {},
   "outputs": [
    {
     "data": {
      "application/json": {
       "cell": {
        "!": "OSMagics",
        "HTML": "Other",
        "SVG": "Other",
        "bash": "Other",
        "capture": "ExecutionMagics",
        "debug": "ExecutionMagics",
        "file": "Other",
        "html": "DisplayMagics",
        "javascript": "DisplayMagics",
        "js": "DisplayMagics",
        "latex": "DisplayMagics",
        "markdown": "DisplayMagics",
        "perl": "Other",
        "prun": "ExecutionMagics",
        "pypy": "Other",
        "python": "Other",
        "python2": "Other",
        "python3": "Other",
        "ruby": "Other",
        "script": "ScriptMagics",
        "sh": "Other",
        "svg": "DisplayMagics",
        "sx": "OSMagics",
        "system": "OSMagics",
        "time": "ExecutionMagics",
        "timeit": "ExecutionMagics",
        "writefile": "OSMagics"
       },
       "line": {
        "alias": "OSMagics",
        "alias_magic": "BasicMagics",
        "autocall": "AutoMagics",
        "automagic": "AutoMagics",
        "autosave": "KernelMagics",
        "bookmark": "OSMagics",
        "cat": "Other",
        "cd": "OSMagics",
        "clear": "KernelMagics",
        "colors": "BasicMagics",
        "config": "ConfigMagics",
        "connect_info": "KernelMagics",
        "cp": "Other",
        "debug": "ExecutionMagics",
        "dhist": "OSMagics",
        "dirs": "OSMagics",
        "doctest_mode": "BasicMagics",
        "ed": "Other",
        "edit": "KernelMagics",
        "env": "OSMagics",
        "gui": "BasicMagics",
        "hist": "Other",
        "history": "HistoryMagics",
        "killbgscripts": "ScriptMagics",
        "ldir": "Other",
        "less": "KernelMagics",
        "lf": "Other",
        "lk": "Other",
        "ll": "Other",
        "load": "CodeMagics",
        "load_ext": "ExtensionMagics",
        "loadpy": "CodeMagics",
        "logoff": "LoggingMagics",
        "logon": "LoggingMagics",
        "logstart": "LoggingMagics",
        "logstate": "LoggingMagics",
        "logstop": "LoggingMagics",
        "ls": "Other",
        "lsmagic": "BasicMagics",
        "lx": "Other",
        "macro": "ExecutionMagics",
        "magic": "BasicMagics",
        "man": "KernelMagics",
        "matplotlib": "PylabMagics",
        "mkdir": "Other",
        "more": "KernelMagics",
        "mv": "Other",
        "notebook": "BasicMagics",
        "page": "BasicMagics",
        "pastebin": "CodeMagics",
        "pdb": "ExecutionMagics",
        "pdef": "NamespaceMagics",
        "pdoc": "NamespaceMagics",
        "pfile": "NamespaceMagics",
        "pinfo": "NamespaceMagics",
        "pinfo2": "NamespaceMagics",
        "pip": "BasicMagics",
        "popd": "OSMagics",
        "pprint": "BasicMagics",
        "precision": "BasicMagics",
        "profile": "BasicMagics",
        "prun": "ExecutionMagics",
        "psearch": "NamespaceMagics",
        "psource": "NamespaceMagics",
        "pushd": "OSMagics",
        "pwd": "OSMagics",
        "pycat": "OSMagics",
        "pylab": "PylabMagics",
        "qtconsole": "KernelMagics",
        "quickref": "BasicMagics",
        "recall": "HistoryMagics",
        "rehashx": "OSMagics",
        "reload_ext": "ExtensionMagics",
        "rep": "Other",
        "rerun": "HistoryMagics",
        "reset": "NamespaceMagics",
        "reset_selective": "NamespaceMagics",
        "rm": "Other",
        "rmdir": "Other",
        "run": "ExecutionMagics",
        "save": "CodeMagics",
        "sc": "OSMagics",
        "set_env": "OSMagics",
        "store": "StoreMagics",
        "sx": "OSMagics",
        "system": "OSMagics",
        "tb": "ExecutionMagics",
        "time": "ExecutionMagics",
        "timeit": "ExecutionMagics",
        "unalias": "OSMagics",
        "unload_ext": "ExtensionMagics",
        "who": "NamespaceMagics",
        "who_ls": "NamespaceMagics",
        "whos": "NamespaceMagics",
        "xdel": "NamespaceMagics",
        "xmode": "BasicMagics"
       }
      },
      "text/plain": [
       "Available line magics:\n",
       "%alias  %alias_magic  %autocall  %automagic  %autosave  %bookmark  %cat  %cd  %clear  %colors  %config  %connect_info  %cp  %debug  %dhist  %dirs  %doctest_mode  %ed  %edit  %env  %gui  %hist  %history  %killbgscripts  %ldir  %less  %lf  %lk  %ll  %load  %load_ext  %loadpy  %logoff  %logon  %logstart  %logstate  %logstop  %ls  %lsmagic  %lx  %macro  %magic  %man  %matplotlib  %mkdir  %more  %mv  %notebook  %page  %pastebin  %pdb  %pdef  %pdoc  %pfile  %pinfo  %pinfo2  %popd  %pprint  %precision  %profile  %prun  %psearch  %psource  %pushd  %pwd  %pycat  %pylab  %qtconsole  %quickref  %recall  %rehashx  %reload_ext  %rep  %rerun  %reset  %reset_selective  %rm  %rmdir  %run  %save  %sc  %set_env  %store  %sx  %system  %tb  %time  %timeit  %unalias  %unload_ext  %who  %who_ls  %whos  %xdel  %xmode\n",
       "\n",
       "Available cell magics:\n",
       "%%!  %%HTML  %%SVG  %%bash  %%capture  %%debug  %%file  %%html  %%javascript  %%js  %%latex  %%markdown  %%perl  %%prun  %%pypy  %%python  %%python2  %%python3  %%ruby  %%script  %%sh  %%svg  %%sx  %%system  %%time  %%timeit  %%writefile\n",
       "\n",
       "Automagic is ON, % prefix IS NOT needed for line magics."
      ]
     },
     "execution_count": 11,
     "metadata": {},
     "output_type": "execute_result"
    }
   ],
   "source": [
    "%lsmagic"
   ]
  },
  {
   "cell_type": "code",
   "execution_count": 12,
   "metadata": {
    "collapsed": true
   },
   "outputs": [],
   "source": [
    "import pandas as pd\n",
    "a, b, c = 10, 20, 30\n",
    "k = pd.DataFrame()"
   ]
  },
  {
   "cell_type": "code",
   "execution_count": 13,
   "metadata": {},
   "outputs": [
    {
     "name": "stdout",
     "output_type": "stream",
     "text": [
      "No variables match your requested type.\n"
     ]
    }
   ],
   "source": [
    "%whos #현재 사용 namespace 확인 "
   ]
  },
  {
   "cell_type": "code",
   "execution_count": 14,
   "metadata": {},
   "outputs": [
    {
     "name": "stdout",
     "output_type": "stream",
     "text": [
      "Once deleted, variables cannot be recovered. Proceed (y/[n])? y\n"
     ]
    }
   ],
   "source": [
    "# 현재 namespace 초기화\n",
    "%reset"
   ]
  },
  {
   "cell_type": "code",
   "execution_count": 15,
   "metadata": {},
   "outputs": [
    {
     "name": "stdout",
     "output_type": "stream",
     "text": [
      "Interactive namespace is empty.\n"
     ]
    }
   ],
   "source": [
    "%whos"
   ]
  },
  {
   "cell_type": "code",
   "execution_count": 16,
   "metadata": {},
   "outputs": [
    {
     "data": {
      "text/plain": [
       "[<matplotlib.lines.Line2D at 0x11138a358>]"
      ]
     },
     "execution_count": 16,
     "metadata": {},
     "output_type": "execute_result"
    },
    {
     "data": {
      "image/png": "[encoded data removed]",
      "text/plain": [
       "<matplotlib.figure.Figure at 0x111272400>"
      ]
     },
     "metadata": {},
     "output_type": "display_data"
    }
   ],
   "source": [
    "# 사실 저는 아래 매직 커맨드만 많이 씁니다.\n",
    "# 이렇게 처음에 세팅하면, 향후 나오는 모든 그림들이 바로 출력됩니당. \n",
    "%matplotlib inline\n",
    "import matplotlib.pyplot as plt\n",
    "plt.plot([1,2,3], [1,2,3])"
   ]
  },
  {
   "cell_type": "code",
   "execution_count": 17,
   "metadata": {},
   "outputs": [
    {
     "name": "stdout",
     "output_type": "stream",
     "text": [
      "Overwriting a.py\n"
     ]
    }
   ],
   "source": [
    "%%writefile a.py\n",
    "for i in range(0, 5):\n",
    "    print(i)"
   ]
  },
  {
   "cell_type": "code",
   "execution_count": 18,
   "metadata": {},
   "outputs": [
    {
     "name": "stdout",
     "output_type": "stream",
     "text": [
      "0\n",
      "1\n",
      "2\n",
      "3\n",
      "4\n"
     ]
    },
    {
     "data": {
      "text/plain": [
       "<matplotlib.figure.Figure at 0x10e4f2710>"
      ]
     },
     "metadata": {},
     "output_type": "display_data"
    }
   ],
   "source": [
    "%run a.py"
   ]
  },
  {
   "cell_type": "code",
   "execution_count": 19,
   "metadata": {},
   "outputs": [
    {
     "name": "stdout",
     "output_type": "stream",
     "text": [
      "0\n",
      "1\n",
      "2\n",
      "3\n",
      "4\n"
     ]
    }
   ],
   "source": [
    "# %load a.py 를 실행하면, a.py에 있는 코드를 해당 셀에 그대로 가져옴 \n",
    "# %load a.py\n",
    "for i in range(0, 5):\n",
    "    print(i)"
   ]
  },
  {
   "cell_type": "markdown",
   "metadata": {},
   "source": [
    "## IPython\n",
    "\n",
    "- 쥬피터 노트북에 외부 요소들을 가져와서 보여줄 수 있음 \n",
    "- 사실 이미 마크다운을 통해서 다 되는거긴 하지만...그래도..."
   ]
  },
  {
   "cell_type": "code",
   "execution_count": 20,
   "metadata": {},
   "outputs": [
    {
     "data": {
      "image/jpeg": "[encoded data removed]",
      "text/html": [
       "\n",
       "        <iframe\n",
       "            width=\"400\"\n",
       "            height=\"300\"\n",
       "            src=\"https://www.youtube.com/embed/HW29067qVWk\"\n",
       "            frameborder=\"0\"\n",
       "            allowfullscreen\n",
       "        ></iframe>\n",
       "        "
      ],
      "text/plain": [
       "<IPython.lib.display.YouTubeVideo at 0x10e4f29b0>"
      ]
     },
     "execution_count": 20,
     "metadata": {},
     "output_type": "execute_result"
    }
   ],
   "source": [
    "from IPython.display import YouTubeVideo\n",
    "YouTubeVideo('HW29067qVWk')"
   ]
  },
  {
   "cell_type": "code",
   "execution_count": 21,
   "metadata": {},
   "outputs": [
    {
     "data": {
      "text/markdown": [
       "\n",
       "# heading1\n",
       "## heading2\n",
       "### heading3\n",
       "\n",
       "####  \n",
       "\n",
       "```python \n",
       "print(\"dd)\n",
       "```\n"
      ],
      "text/plain": [
       "<IPython.core.display.Markdown object>"
      ]
     },
     "execution_count": 21,
     "metadata": {},
     "output_type": "execute_result"
    }
   ],
   "source": [
    "from IPython.display import Markdown\n",
    "Markdown(\"\"\"\n",
    "# heading1\n",
    "## heading2\n",
    "### heading3\n",
    "\n",
    "####  \n",
    "\n",
    "```python \n",
    "print(\"dd)\n",
    "```\n",
    "\"\"\")"
   ]
  },
  {
   "cell_type": "code",
   "execution_count": 22,
   "metadata": {},
   "outputs": [
    {
     "data": {
      "text/html": [
       "\n",
       "<div style=\"background-color:gainsboro; border:solid black; width:300px; padding:20px;\">\n",
       "Variable Name: <input type=\"text\" id=\"var_name\" value=\"foo\"><br>\n",
       "Variable Value: <input type=\"text\" id=\"var_value\" value=\"bar\"><br>\n",
       "<button onclick=\"set_value()\">Set Value</button>\n",
       "</div>\n",
       "\n",
       "<script type=\"text/Javascript\">\n",
       "    function set_value(){\n",
       "        var var_name = document.getElementById('var_name').value;\n",
       "        var var_value = document.getElementById('var_value').value;\n",
       "        var command = var_name + \" = '\" + var_value + \"'\";\n",
       "        console.log(\"Executing Command: \" + command);\n",
       "        \n",
       "        var kernel = IPython.notebook.kernel;\n",
       "        kernel.execute(command);\n",
       "    }\n",
       "</script>\n"
      ],
      "text/plain": [
       "<IPython.core.display.HTML object>"
      ]
     },
     "execution_count": 22,
     "metadata": {},
     "output_type": "execute_result"
    }
   ],
   "source": [
    "from IPython.display import HTML\n",
    "\n",
    "input_form = \"\"\"\n",
    "<div style=\"background-color:gainsboro; border:solid black; width:300px; padding:20px;\">\n",
    "Variable Name: <input type=\"text\" id=\"var_name\" value=\"foo\"><br>\n",
    "Variable Value: <input type=\"text\" id=\"var_value\" value=\"bar\"><br>\n",
    "<button onclick=\"set_value()\">Set Value</button>\n",
    "</div>\n",
    "\"\"\"\n",
    "\n",
    "javascript = \"\"\"\n",
    "<script type=\"text/Javascript\">\n",
    "    function set_value(){\n",
    "        var var_name = document.getElementById('var_name').value;\n",
    "        var var_value = document.getElementById('var_value').value;\n",
    "        var command = var_name + \" = '\" + var_value + \"'\";\n",
    "        console.log(\"Executing Command: \" + command);\n",
    "        \n",
    "        var kernel = IPython.notebook.kernel;\n",
    "        kernel.execute(command);\n",
    "    }\n",
    "</script>\n",
    "\"\"\"\n",
    "\n",
    "HTML(input_form + javascript)"
   ]
  },
  {
   "cell_type": "code",
   "execution_count": 23,
   "metadata": {},
   "outputs": [
    {
     "name": "stdout",
     "output_type": "stream",
     "text": [
      "Variable       Type      Data/Info\n",
      "----------------------------------\n",
      "HTML           type      <class 'IPython.core.display.HTML'>\n",
      "Markdown       type      <class 'IPython.core.display.Markdown'>\n",
      "YouTubeVideo   type      <class 'IPython.lib.display.YouTubeVideo'>\n",
      "i              int       4\n",
      "input_form     str       \\n<div style=\"background-<...> Value</button>\\n</div>\\n\n",
      "javascript     str       \\n<script type=\"text/Java<...>and);\\n    }\\n</script>\\n\n",
      "plt            module    <module 'matplotlib.pyplo<...>es/matplotlib/pyplot.py'>\n"
     ]
    }
   ],
   "source": [
    "%whos"
   ]
  },
  {
   "cell_type": "code",
   "execution_count": 24,
   "metadata": {},
   "outputs": [
    {
     "name": "stdout",
     "output_type": "stream",
     "text": [
      "Once deleted, variables cannot be recovered. Proceed (y/[n])? y\n"
     ]
    }
   ],
   "source": [
    "%reset"
   ]
  },
  {
   "cell_type": "markdown",
   "metadata": {
    "collapsed": true
   },
   "source": [
    "## 마무리합니다. \n",
    "\n",
    "- 암튼 저는 jupyter notebook을 씁니다.\n",
    "- 좋긴 한데, 항상 좋지는 않구요. \n",
    "- 개인 공부하기에, 그리고 내가 지금 코딩하는 게 잘되었나를 꾸준히 확인하면서 인터랙티브하게 짜는 데는 아주 좋습니다. \n",
    "- 약간 장난감같아용. \n",
    "- 특히 pandas, matplotlib을 주로 쓰시는 분들에게는 아주 유용할 것 같습니다.\n",
    "- 질문 받습니당"
   ]
  },
  {
   "cell_type": "code",
   "execution_count": null,
   "metadata": {
    "collapsed": true
   },
   "outputs": [],
   "source": []
  }
 ],
 "metadata": {
  "kernelspec": {
   "display_name": "Python 3",
   "language": "python",
   "name": "python3"
  },
  "language_info": {
   "codemirror_mode": {
    "name": "ipython",
    "version": 3
   },
   "file_extension": ".py",
   "mimetype": "text/x-python",
   "name": "python",
   "nbconvert_exporter": "python",
   "pygments_lexer": "ipython3",
   "version": "3.6.2"
  }
 },
 "nbformat": 4,
 "nbformat_minor": 2
}
